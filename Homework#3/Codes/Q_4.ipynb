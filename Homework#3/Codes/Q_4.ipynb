{
  "nbformat": 4,
  "nbformat_minor": 0,
  "metadata": {
    "colab": {
      "name": "Q#4.ipynb",
      "provenance": []
    },
    "kernelspec": {
      "name": "python3",
      "display_name": "Python 3"
    },
    "language_info": {
      "name": "python"
    }
  },
  "cells": [
    {
      "cell_type": "code",
      "metadata": {
        "id": "WAJVQpQtF5hi"
      },
      "source": [
        "import cvxpy as cp"
      ],
      "execution_count": null,
      "outputs": []
    },
    {
      "cell_type": "code",
      "metadata": {
        "id": "Eugsq77hGD1I"
      },
      "source": [
        "def get_solved_problem(obj, x1, x2):\n",
        "\n",
        "    constraints = [\n",
        "        2 * x1 + x2 >= 1,\n",
        "        x1 + 3 * x2 >= 1,\n",
        "        x1 >= 0,\n",
        "        x2 >= 0\n",
        "    ]\n",
        "\n",
        "    prob = cp.Problem(obj, constraints)\n",
        "    prob.solve()\n",
        "\n",
        "    return prob, (x1, x2)"
      ],
      "execution_count": null,
      "outputs": []
    },
    {
      "cell_type": "markdown",
      "metadata": {
        "id": "hjSmWKNHQC0D"
      },
      "source": [
        "#(a)"
      ]
    },
    {
      "cell_type": "code",
      "metadata": {
        "colab": {
          "base_uri": "https://localhost:8080/"
        },
        "id": "uihU0XqpGEZU",
        "outputId": "8d4b5b8d-0972-41ae-c1a3-415d9a8375a9"
      },
      "source": [
        "x1, x2 = cp.Variable(), cp.Variable()\n",
        "obj = cp.Minimize(x1+x2)\n",
        "solved_problem, optimal_variables = get_solved_problem(obj, x1, x2)\n",
        "\n",
        "print(\"status:\", solved_problem.status)\n",
        "print(\"optimal value:\", solved_problem.value)\n",
        "print(\"optimal vars: ({} , {})\".format(\n",
        "    optimal_variables[0].value,\n",
        "    optimal_variables[1].value\n",
        "))"
      ],
      "execution_count": null,
      "outputs": [
        {
          "output_type": "stream",
          "text": [
            "status: optimal\n",
            "optimal value: 0.5999999999116253\n",
            "optimal vars: (0.3999999999724491 , 0.1999999999391762)\n"
          ],
          "name": "stdout"
        }
      ]
    },
    {
      "cell_type": "markdown",
      "metadata": {
        "id": "JzBX03eAQMoO"
      },
      "source": [
        "#(b)"
      ]
    },
    {
      "cell_type": "code",
      "metadata": {
        "colab": {
          "base_uri": "https://localhost:8080/"
        },
        "id": "b3ncMOQlGHid",
        "outputId": "fa375f56-8398-42fa-c9e9-0026d22602b9"
      },
      "source": [
        "x1, x2 = cp.Variable(), cp.Variable()\n",
        "obj = cp.Minimize(-x1-x2)\n",
        "solved_problem, optimal_variables = get_solved_problem(obj, x1, x2)\n",
        "\n",
        "print(\"status:\", solved_problem.status)\n",
        "print(\"optimal value:\", solved_problem.value)\n",
        "print(\"optimal vars: ({} , {})\".format(\n",
        "    optimal_variables[0].value,\n",
        "    optimal_variables[1].value\n",
        "))"
      ],
      "execution_count": null,
      "outputs": [
        {
          "output_type": "stream",
          "text": [
            "status: unbounded\n",
            "optimal value: -inf\n",
            "optimal vars: (None , None)\n"
          ],
          "name": "stdout"
        }
      ]
    },
    {
      "cell_type": "markdown",
      "metadata": {
        "id": "sSzDllSiQTjv"
      },
      "source": [
        "#(c)"
      ]
    },
    {
      "cell_type": "code",
      "metadata": {
        "colab": {
          "base_uri": "https://localhost:8080/"
        },
        "id": "TKLMs8kpGhNa",
        "outputId": "869536ea-704f-4b33-f124-21f1e0fdcf60"
      },
      "source": [
        "x1, x2 = cp.Variable(), cp.Variable()\n",
        "obj = cp.Minimize(x1)\n",
        "solved_problem, optimal_variables = get_solved_problem(obj, x1, x2)\n",
        "\n",
        "print(\"status:\", solved_problem.status)\n",
        "print(\"optimal value:\", solved_problem.value)\n",
        "print(\"optimal vars: ({} , {})\".format(\n",
        "    optimal_variables[0].value,\n",
        "    optimal_variables[1].value\n",
        "))"
      ],
      "execution_count": null,
      "outputs": [
        {
          "output_type": "stream",
          "text": [
            "status: optimal\n",
            "optimal value: -2.2491441767693296e-10\n",
            "optimal vars: (-2.2491441767693299e-10 , 1.5537158969947242)\n"
          ],
          "name": "stdout"
        }
      ]
    },
    {
      "cell_type": "markdown",
      "metadata": {
        "id": "E1o5jjidQX0H"
      },
      "source": [
        "#(d)"
      ]
    },
    {
      "cell_type": "code",
      "metadata": {
        "colab": {
          "base_uri": "https://localhost:8080/"
        },
        "id": "6BN6XeeFGqWv",
        "outputId": "a9a567f8-126b-45cb-bb5a-0a18edd45b46"
      },
      "source": [
        "x1, x2, x3 = cp.Variable(), cp.Variable(), cp.Variable()\n",
        "\n",
        "constraints = [\n",
        "    2 * x1 + x2 >= 1,\n",
        "    x1 + 3 * x2 >= 1,\n",
        "    x1 >= 0,\n",
        "    x2 >= 0,\n",
        "    x3 >= x1,\n",
        "    x3 >= x2\n",
        "]\n",
        "\n",
        "obj = cp.Minimize(x3)\n",
        "prob = cp.Problem(obj, constraints)\n",
        "prob.solve()\n",
        "\n",
        "print(\"status:\", prob.status)\n",
        "print(\"optimal value:\", prob.value)\n",
        "print(\"optimal vars: ({} , {})\".format(\n",
        "    x1.value,\n",
        "    x2.value\n",
        "))"
      ],
      "execution_count": null,
      "outputs": [
        {
          "output_type": "stream",
          "text": [
            "status: optimal\n",
            "optimal value: 0.3333333330990559\n",
            "optimal vars: (0.3333333334080862 , 0.3333333328625956)\n"
          ],
          "name": "stdout"
        }
      ]
    },
    {
      "cell_type": "markdown",
      "metadata": {
        "id": "XmK1MmSIQZx-"
      },
      "source": [
        "#(e)"
      ]
    },
    {
      "cell_type": "code",
      "metadata": {
        "colab": {
          "base_uri": "https://localhost:8080/"
        },
        "id": "NfQAA-4KHAam",
        "outputId": "c1f23ca5-ec62-4e67-d9a3-e2b64b67d356"
      },
      "source": [
        "x1, x2 = cp.Variable(), cp.Variable()\n",
        "obj = cp.Minimize(x1**2+9*x2**2)\n",
        "solved_problem, optimal_variables = get_solved_problem(obj, x1, x2)\n",
        "\n",
        "print(\"status:\", solved_problem.status)\n",
        "print(\"optimal value:\", solved_problem.value)\n",
        "print(\"optimal vars: ({} , {})\".format(\n",
        "    optimal_variables[0].value,\n",
        "    optimal_variables[1].value\n",
        "))"
      ],
      "execution_count": null,
      "outputs": [
        {
          "output_type": "stream",
          "text": [
            "status: optimal\n",
            "optimal value: 0.5000000000000003\n",
            "optimal vars: (0.5000000000000001 , 0.1666666666666667)\n"
          ],
          "name": "stdout"
        }
      ]
    }
  ]
}