{
  "nbformat": 4,
  "nbformat_minor": 0,
  "metadata": {
    "colab": {
      "name": "Q#9.ipynb",
      "provenance": []
    },
    "kernelspec": {
      "name": "python3",
      "display_name": "Python 3"
    },
    "language_info": {
      "name": "python"
    }
  },
  "cells": [
    {
      "cell_type": "code",
      "metadata": {
        "id": "XatzY7pQ67HI"
      },
      "source": [
        "import cvxpy as cp\n",
        "import numpy as np\n",
        "import matplotlib.pyplot as plt"
      ],
      "execution_count": 8,
      "outputs": []
    },
    {
      "cell_type": "code",
      "metadata": {
        "id": "oxpQwbiU7AHK"
      },
      "source": [
        "np.random.seed(0)\n",
        "(m, n) = (300, 100)\n",
        "A = np.random.rand(m, n); A = np.asmatrix(A)\n",
        "b = A.dot(np.ones((n, 1)))/2; b = np.asmatrix(b)\n",
        "c = -np.random.rand(n, 1); c = np.asmatrix(c)"
      ],
      "execution_count": 3,
      "outputs": []
    },
    {
      "cell_type": "code",
      "metadata": {
        "colab": {
          "base_uri": "https://localhost:8080/"
        },
        "id": "JT43j5pH7K-F",
        "outputId": "a8e6896d-a16b-4ee8-bf3b-ea02c4715f58"
      },
      "source": [
        "x = cp.Variable(shape=(n, ))\n",
        "\n",
        "constraints = [\n",
        "    (A * x)[:, None]  <= b,\n",
        "    x >= 0,\n",
        "    x <= 1\n",
        "]\n",
        "\n",
        "obj = cp.Minimize(c.T * x)\n",
        "prob = cp.Problem(\n",
        "    objective=obj,\n",
        "    constraints=constraints\n",
        ")\n",
        "prob.solve()\n",
        "\n",
        "print(\"status: {}\".format(prob.status))\n",
        "print(\"optimal value: {}\".format(prob.value))"
      ],
      "execution_count": 5,
      "outputs": [
        {
          "output_type": "stream",
          "text": [
            "status: optimal\n",
            "optimal value: -34.41722425996277\n"
          ],
          "name": "stdout"
        }
      ]
    },
    {
      "cell_type": "code",
      "metadata": {
        "id": "WDx_LIAH96OG"
      },
      "source": [
        "thres = np.arange(0, 1.01, 0.01)\n",
        "\n",
        "max_violations, obj_vals = [],[]\n",
        "for t in thres:\n",
        "    x_itr = x.value >= t\n",
        "    max_violations.append(np.max(np.dot(A,x_itr)- b.T))\n",
        "    obj_vals.append(np.dot(c.T,x_itr)[0])"
      ],
      "execution_count": 6,
      "outputs": []
    },
    {
      "cell_type": "code",
      "metadata": {
        "id": "yzT7b-RKAbOa"
      },
      "source": [
        "max_violations = np.array(max_violations)\n",
        "obj_vals = np.array(obj_vals).reshape(101, )"
      ],
      "execution_count": 15,
      "outputs": []
    },
    {
      "cell_type": "code",
      "metadata": {
        "colab": {
          "base_uri": "https://localhost:8080/",
          "height": 278
        },
        "id": "iezxITfo_Dul",
        "outputId": "75f1e613-99f7-4398-e402-3e166bdd080c"
      },
      "source": [
        "plt.plot(thres, max_violations)\n",
        "plt.xlabel(\"threshold\")\n",
        "plt.ylabel(\"max violation\")\n",
        "plt.show()"
      ],
      "execution_count": 16,
      "outputs": [
        {
          "output_type": "display_data",
          "data": {
            "image/png": "[encoded data removed]",
            "text/plain": [
              "<Figure size 432x288 with 1 Axes>"
            ]
          },
          "metadata": {
            "tags": [],
            "needs_background": "light"
          }
        }
      ]
    },
    {
      "cell_type": "code",
      "metadata": {
        "colab": {
          "base_uri": "https://localhost:8080/",
          "height": 278
        },
        "id": "vMqD92Kp_SjW",
        "outputId": "2c24e12a-37d7-4b56-c35b-2ecfbde1f3e8"
      },
      "source": [
        "U = obj_vals[(np.asarray(max_violations)<=0)].min()\n",
        "\n",
        "plt.plot(thres, (np.ones_like(obj_vals) * U))\n",
        "plt.plot(thres, obj_vals)\n",
        "plt.xlabel(\"threshold\")\n",
        "plt.ylabel(\"objective\")\n",
        "plt.show()"
      ],
      "execution_count": 21,
      "outputs": [
        {
          "output_type": "display_data",
          "data": {
            "image/png": "[encoded data removed]",
            "text/plain": [
              "<Figure size 432x288 with 1 Axes>"
            ]
          },
          "metadata": {
            "tags": [],
            "needs_background": "light"
          }
        }
      ]
    },
    {
      "cell_type": "code",
      "metadata": {
        "colab": {
          "base_uri": "https://localhost:8080/"
        },
        "id": "eLrU0Nwb_7fu",
        "outputId": "cb25168e-7499-4d8b-a998-26f6c00ebd15"
      },
      "source": [
        "U"
      ],
      "execution_count": 22,
      "outputs": [
        {
          "output_type": "execute_result",
          "data": {
            "text/plain": [
              "-33.57725134530702"
            ]
          },
          "metadata": {
            "tags": []
          },
          "execution_count": 22
        }
      ]
    }
  ]
}